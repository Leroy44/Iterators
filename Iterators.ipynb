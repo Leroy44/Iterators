{
 "cells": [
  {
   "cell_type": "code",
   "execution_count": 2,
   "id": "5332cc79",
   "metadata": {},
   "outputs": [
    {
     "name": "stdout",
     "output_type": "stream",
     "text": [
      "COOL!\n",
      "AWESOME!\n",
      "WHY AM I SHOUTING?\n"
     ]
    }
   ],
   "source": [
    "# Iterators\n",
    "\n",
    "words = [\"cool!\", \"awesome!\", \"why am I shouting?\"]\n",
    "\n",
    "for word in words:\n",
    "    print(word.upper())"
   ]
  },
  {
   "cell_type": "code",
   "execution_count": 7,
   "id": "003fa8d8",
   "metadata": {},
   "outputs": [
    {
     "ename": "TypeError",
     "evalue": "'str' object is not callable",
     "output_type": "error",
     "traceback": [
      "\u001b[1;31m---------------------------------------------------------------------------\u001b[0m",
      "\u001b[1;31mTypeError\u001b[0m                                 Traceback (most recent call last)",
      "\u001b[1;32m~\\AppData\\Local\\Temp/ipykernel_24660/3833730943.py\u001b[0m in \u001b[0;36m<module>\u001b[1;34m\u001b[0m\n\u001b[0;32m      1\u001b[0m \u001b[1;32mfor\u001b[0m \u001b[0mword\u001b[0m \u001b[1;32min\u001b[0m \u001b[0mwords\u001b[0m\u001b[1;33m:\u001b[0m\u001b[1;33m\u001b[0m\u001b[1;33m\u001b[0m\u001b[0m\n\u001b[1;32m----> 2\u001b[1;33m     \u001b[0mprint\u001b[0m\u001b[1;33m(\u001b[0m\u001b[1;34m\"orig word \"\u001b[0m\u001b[1;33m,\u001b[0m \u001b[0mword\u001b[0m\u001b[1;33m(\u001b[0m\u001b[1;33m)\u001b[0m\u001b[1;33m)\u001b[0m\u001b[1;33m\u001b[0m\u001b[1;33m\u001b[0m\u001b[0m\n\u001b[0m\u001b[0;32m      3\u001b[0m     \u001b[0mprint\u001b[0m\u001b[1;33m(\u001b[0m\u001b[1;34m\"upper word \"\u001b[0m\u001b[1;33m,\u001b[0m \u001b[0mword\u001b[0m\u001b[1;33m.\u001b[0m\u001b[0mupper\u001b[0m\u001b[1;33m(\u001b[0m\u001b[1;33m)\u001b[0m\u001b[1;33m)\u001b[0m\u001b[1;33m\u001b[0m\u001b[1;33m\u001b[0m\u001b[0m\n\u001b[0;32m      4\u001b[0m     \u001b[0mprint\u001b[0m\u001b[1;33m(\u001b[0m\u001b[1;34m\"title word \"\u001b[0m\u001b[1;33m,\u001b[0m \u001b[0mword\u001b[0m\u001b[1;33m.\u001b[0m\u001b[0mtitle\u001b[0m\u001b[1;33m(\u001b[0m\u001b[1;33m)\u001b[0m\u001b[1;33m)\u001b[0m\u001b[1;33m\u001b[0m\u001b[1;33m\u001b[0m\u001b[0m\n",
      "\u001b[1;31mTypeError\u001b[0m: 'str' object is not callable"
     ]
    }
   ],
   "source": [
    "for word in words:\n",
    "    print(\"orig word \", word())\n",
    "    print(\"upper word \", word.upper())\n",
    "    print(\"title word \", word.title())"
   ]
  },
  {
   "cell_type": "code",
   "execution_count": 11,
   "id": "b23e99da",
   "metadata": {},
   "outputs": [
    {
     "name": "stdout",
     "output_type": "stream",
     "text": [
      "Original Word:  cool!\n",
      "Uppercase Word:  COOL!\n",
      "Titlecase Word:  Cool!\n",
      "Original Word:  awesome!\n",
      "Uppercase Word:  AWESOME!\n",
      "Titlecase Word:  Awesome!\n",
      "Original Word:  why am I shouting?\n",
      "Uppercase Word:  WHY AM I SHOUTING?\n",
      "Titlecase Word:  Why Am I Shouting?\n",
      "I'm outside of the loop, so I only print once after all the words have been selected!\n"
     ]
    }
   ],
   "source": [
    "# IMPORTANT SYNTAX FOR LOOPS...\n",
    "# NOTE DIFFERENCE BETWEEN INDENTED AND NON-INDENTED PRINT STATEMENTS\n",
    "\n",
    "for word in words:\n",
    "    print(\"Original Word: \", word)\n",
    "    print(\"Uppercase Word: \", word.upper())\n",
    "    print(\"Titlecase Word: \", word.title())\n",
    "print(\"I'm outside of the loop, so I only print once after all the words have been selected!\")"
   ]
  },
  {
   "cell_type": "code",
   "execution_count": 15,
   "id": "72a4e70a",
   "metadata": {},
   "outputs": [
    {
     "name": "stdout",
     "output_type": "stream",
     "text": [
      "Your interest will be:  10630.481679999999\n",
      "Your interest will be:  6914.9735200000005\n",
      "Your interest will be:  10217.64744\n",
      "Your interest will be:  10320.856\n"
     ]
    }
   ],
   "source": [
    "#...cont...update code so that it also tracks a running total of the interest.\n",
    "principle = 103208.56\n",
    "interest_rates = [.103, .067, .099, .10]\n",
    "\n",
    "for rate in interest_rates:\n",
    "    interest = rate * principle\n",
    "    print(\"Your interest will be: \", interest)"
   ]
  },
  {
   "cell_type": "code",
   "execution_count": 17,
   "id": "2e7caa37",
   "metadata": {},
   "outputs": [
    {
     "name": "stdout",
     "output_type": "stream",
     "text": [
      "Your interest will be:  10630.481679999999\n",
      "Your interest will be:  6914.9735200000005\n",
      "Your interest will be:  10217.64744\n",
      "Your interest will be:  10320.856\n",
      "The total interest is:  38083.95864\n"
     ]
    }
   ],
   "source": [
    "#...cont...update code so that it also tracks a running total of the interest.\n",
    "principle = 103208.56\n",
    "interest_rates = [.103, .067, .099, .10]\n",
    "total_interest = 0.0\n",
    "for rate in interest_rates:\n",
    "    interest = rate * principle\n",
    "    total_interest = total_interest + interest\n",
    "    print(\"Your interest will be: \", interest)\n",
    "print(\"The total interest is: \", total_interest)"
   ]
  },
  {
   "cell_type": "code",
   "execution_count": null,
   "id": "d8e527bf",
   "metadata": {},
   "outputs": [],
   "source": []
  }
 ],
 "metadata": {
  "kernelspec": {
   "display_name": "Python 3 (ipykernel)",
   "language": "python",
   "name": "python3"
  },
  "language_info": {
   "codemirror_mode": {
    "name": "ipython",
    "version": 3
   },
   "file_extension": ".py",
   "mimetype": "text/x-python",
   "name": "python",
   "nbconvert_exporter": "python",
   "pygments_lexer": "ipython3",
   "version": "3.8.8"
  }
 },
 "nbformat": 4,
 "nbformat_minor": 5
}
